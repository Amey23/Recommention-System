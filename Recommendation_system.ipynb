{
 "cells": [
  {
   "cell_type": "code",
   "execution_count": 477,
   "metadata": {},
   "outputs": [],
   "source": [
    "import matplotlib.pyplot as plt\n",
    "import seaborn as sns\n",
    "import pandas as pd\n",
    "import numpy as np\n",
    "import ast \n",
    "from scipy import stats\n",
    "from ast import literal_eval\n",
    "from sklearn.feature_extraction.text import TfidfVectorizer, CountVectorizer\n",
    "from sklearn.metrics.pairwise import linear_kernel, cosine_similarity\n",
    "\n",
    "%matplotlib inline"
   ]
  },
  {
   "cell_type": "code",
   "execution_count": 478,
   "metadata": {},
   "outputs": [
    {
     "data": {
      "text/plain": [
       "Index(['adult', 'belongs_to_collection', 'budget', 'genres', 'homepage', 'id',\n",
       "       'imdb_id', 'original_language', 'original_title', 'overview',\n",
       "       'popularity', 'poster_path', 'production_companies',\n",
       "       'production_countries', 'release_date', 'revenue', 'runtime',\n",
       "       'spoken_languages', 'status', 'tagline', 'title', 'video',\n",
       "       'vote_average', 'vote_count'],\n",
       "      dtype='object')"
      ]
     },
     "execution_count": 478,
     "metadata": {},
     "output_type": "execute_result"
    }
   ],
   "source": [
    "movies_df = pd.read_csv('movies_metadata.csv')\n",
    "ratings = pd.read_csv('ratings_small.csv')\n",
    "movies_df.columns"
   ]
  },
  {
   "cell_type": "code",
   "execution_count": 479,
   "metadata": {},
   "outputs": [
    {
     "data": {
      "text/html": [
       "<div>\n",
       "<style scoped>\n",
       "    .dataframe tbody tr th:only-of-type {\n",
       "        vertical-align: middle;\n",
       "    }\n",
       "\n",
       "    .dataframe tbody tr th {\n",
       "        vertical-align: top;\n",
       "    }\n",
       "\n",
       "    .dataframe thead th {\n",
       "        text-align: right;\n",
       "    }\n",
       "</style>\n",
       "<table border=\"1\" class=\"dataframe\">\n",
       "  <thead>\n",
       "    <tr style=\"text-align: right;\">\n",
       "      <th></th>\n",
       "      <th>adult</th>\n",
       "      <th>genres</th>\n",
       "      <th>id</th>\n",
       "      <th>imdb_id</th>\n",
       "      <th>original_title</th>\n",
       "      <th>overview</th>\n",
       "      <th>popularity</th>\n",
       "      <th>tagline</th>\n",
       "      <th>title</th>\n",
       "      <th>vote_average</th>\n",
       "      <th>vote_count</th>\n",
       "    </tr>\n",
       "  </thead>\n",
       "  <tbody>\n",
       "    <tr>\n",
       "      <th>0</th>\n",
       "      <td>False</td>\n",
       "      <td>[{'id': 16, 'name': 'Animation'}, {'id': 35, '...</td>\n",
       "      <td>862</td>\n",
       "      <td>tt0114709</td>\n",
       "      <td>Toy Story</td>\n",
       "      <td>Led by Woody, Andy's toys live happily in his ...</td>\n",
       "      <td>21.9469</td>\n",
       "      <td>NaN</td>\n",
       "      <td>Toy Story</td>\n",
       "      <td>7.7</td>\n",
       "      <td>5415.0</td>\n",
       "    </tr>\n",
       "    <tr>\n",
       "      <th>1</th>\n",
       "      <td>False</td>\n",
       "      <td>[{'id': 12, 'name': 'Adventure'}, {'id': 14, '...</td>\n",
       "      <td>8844</td>\n",
       "      <td>tt0113497</td>\n",
       "      <td>Jumanji</td>\n",
       "      <td>When siblings Judy and Peter discover an encha...</td>\n",
       "      <td>17.0155</td>\n",
       "      <td>Roll the dice and unleash the excitement!</td>\n",
       "      <td>Jumanji</td>\n",
       "      <td>6.9</td>\n",
       "      <td>2413.0</td>\n",
       "    </tr>\n",
       "    <tr>\n",
       "      <th>2</th>\n",
       "      <td>False</td>\n",
       "      <td>[{'id': 10749, 'name': 'Romance'}, {'id': 35, ...</td>\n",
       "      <td>15602</td>\n",
       "      <td>tt0113228</td>\n",
       "      <td>Grumpier Old Men</td>\n",
       "      <td>A family wedding reignites the ancient feud be...</td>\n",
       "      <td>11.7129</td>\n",
       "      <td>Still Yelling. Still Fighting. Still Ready for...</td>\n",
       "      <td>Grumpier Old Men</td>\n",
       "      <td>6.5</td>\n",
       "      <td>92.0</td>\n",
       "    </tr>\n",
       "    <tr>\n",
       "      <th>3</th>\n",
       "      <td>False</td>\n",
       "      <td>[{'id': 35, 'name': 'Comedy'}, {'id': 18, 'nam...</td>\n",
       "      <td>31357</td>\n",
       "      <td>tt0114885</td>\n",
       "      <td>Waiting to Exhale</td>\n",
       "      <td>Cheated on, mistreated and stepped on, the wom...</td>\n",
       "      <td>3.85949</td>\n",
       "      <td>Friends are the people who let you be yourself...</td>\n",
       "      <td>Waiting to Exhale</td>\n",
       "      <td>6.1</td>\n",
       "      <td>34.0</td>\n",
       "    </tr>\n",
       "    <tr>\n",
       "      <th>4</th>\n",
       "      <td>False</td>\n",
       "      <td>[{'id': 35, 'name': 'Comedy'}]</td>\n",
       "      <td>11862</td>\n",
       "      <td>tt0113041</td>\n",
       "      <td>Father of the Bride Part II</td>\n",
       "      <td>Just when George Banks has recovered from his ...</td>\n",
       "      <td>8.38752</td>\n",
       "      <td>Just When His World Is Back To Normal... He's ...</td>\n",
       "      <td>Father of the Bride Part II</td>\n",
       "      <td>5.7</td>\n",
       "      <td>173.0</td>\n",
       "    </tr>\n",
       "  </tbody>\n",
       "</table>\n",
       "</div>"
      ],
      "text/plain": [
       "   adult                                             genres     id    imdb_id  \\\n",
       "0  False  [{'id': 16, 'name': 'Animation'}, {'id': 35, '...    862  tt0114709   \n",
       "1  False  [{'id': 12, 'name': 'Adventure'}, {'id': 14, '...   8844  tt0113497   \n",
       "2  False  [{'id': 10749, 'name': 'Romance'}, {'id': 35, ...  15602  tt0113228   \n",
       "3  False  [{'id': 35, 'name': 'Comedy'}, {'id': 18, 'nam...  31357  tt0114885   \n",
       "4  False                     [{'id': 35, 'name': 'Comedy'}]  11862  tt0113041   \n",
       "\n",
       "                original_title  \\\n",
       "0                    Toy Story   \n",
       "1                      Jumanji   \n",
       "2             Grumpier Old Men   \n",
       "3            Waiting to Exhale   \n",
       "4  Father of the Bride Part II   \n",
       "\n",
       "                                            overview popularity  \\\n",
       "0  Led by Woody, Andy's toys live happily in his ...    21.9469   \n",
       "1  When siblings Judy and Peter discover an encha...    17.0155   \n",
       "2  A family wedding reignites the ancient feud be...    11.7129   \n",
       "3  Cheated on, mistreated and stepped on, the wom...    3.85949   \n",
       "4  Just when George Banks has recovered from his ...    8.38752   \n",
       "\n",
       "                                             tagline  \\\n",
       "0                                                NaN   \n",
       "1          Roll the dice and unleash the excitement!   \n",
       "2  Still Yelling. Still Fighting. Still Ready for...   \n",
       "3  Friends are the people who let you be yourself...   \n",
       "4  Just When His World Is Back To Normal... He's ...   \n",
       "\n",
       "                         title  vote_average  vote_count  \n",
       "0                    Toy Story           7.7      5415.0  \n",
       "1                      Jumanji           6.9      2413.0  \n",
       "2             Grumpier Old Men           6.5        92.0  \n",
       "3            Waiting to Exhale           6.1        34.0  \n",
       "4  Father of the Bride Part II           5.7       173.0  "
      ]
     },
     "execution_count": 479,
     "metadata": {},
     "output_type": "execute_result"
    }
   ],
   "source": [
    "\n",
    "movies_df = movies_df.drop(['belongs_to_collection','budget','homepage','original_language','release_date','revenue','runtime','spoken_languages','status','video','poster_path','production_companies','production_countries'], axis = 1)\n",
    "movies_df.head()"
   ]
  },
  {
   "cell_type": "code",
   "execution_count": 480,
   "metadata": {},
   "outputs": [
    {
     "data": {
      "text/html": [
       "<div>\n",
       "<style scoped>\n",
       "    .dataframe tbody tr th:only-of-type {\n",
       "        vertical-align: middle;\n",
       "    }\n",
       "\n",
       "    .dataframe tbody tr th {\n",
       "        vertical-align: top;\n",
       "    }\n",
       "\n",
       "    .dataframe thead th {\n",
       "        text-align: right;\n",
       "    }\n",
       "</style>\n",
       "<table border=\"1\" class=\"dataframe\">\n",
       "  <thead>\n",
       "    <tr style=\"text-align: right;\">\n",
       "      <th></th>\n",
       "      <th>userId</th>\n",
       "      <th>movieId</th>\n",
       "      <th>rating</th>\n",
       "      <th>timestamp</th>\n",
       "    </tr>\n",
       "  </thead>\n",
       "  <tbody>\n",
       "    <tr>\n",
       "      <th>0</th>\n",
       "      <td>1</td>\n",
       "      <td>31</td>\n",
       "      <td>2.5</td>\n",
       "      <td>1260759144</td>\n",
       "    </tr>\n",
       "    <tr>\n",
       "      <th>1</th>\n",
       "      <td>1</td>\n",
       "      <td>1029</td>\n",
       "      <td>3.0</td>\n",
       "      <td>1260759179</td>\n",
       "    </tr>\n",
       "    <tr>\n",
       "      <th>2</th>\n",
       "      <td>1</td>\n",
       "      <td>1061</td>\n",
       "      <td>3.0</td>\n",
       "      <td>1260759182</td>\n",
       "    </tr>\n",
       "    <tr>\n",
       "      <th>3</th>\n",
       "      <td>1</td>\n",
       "      <td>1129</td>\n",
       "      <td>2.0</td>\n",
       "      <td>1260759185</td>\n",
       "    </tr>\n",
       "    <tr>\n",
       "      <th>4</th>\n",
       "      <td>1</td>\n",
       "      <td>1172</td>\n",
       "      <td>4.0</td>\n",
       "      <td>1260759205</td>\n",
       "    </tr>\n",
       "  </tbody>\n",
       "</table>\n",
       "</div>"
      ],
      "text/plain": [
       "   userId  movieId  rating   timestamp\n",
       "0       1       31     2.5  1260759144\n",
       "1       1     1029     3.0  1260759179\n",
       "2       1     1061     3.0  1260759182\n",
       "3       1     1129     2.0  1260759185\n",
       "4       1     1172     4.0  1260759205"
      ]
     },
     "execution_count": 480,
     "metadata": {},
     "output_type": "execute_result"
    }
   ],
   "source": [
    "ratings.head()"
   ]
  },
  {
   "cell_type": "code",
   "execution_count": 481,
   "metadata": {},
   "outputs": [],
   "source": [
    "movies_df['genres'] = movies_df['genres'].fillna('[]').apply(literal_eval).apply(lambda x: [i[\n",
    "    'name'] for i in x] if isinstance(x, list) else [])"
   ]
  },
  {
   "cell_type": "code",
   "execution_count": 482,
   "metadata": {},
   "outputs": [
    {
     "data": {
      "text/plain": [
       "0     [Animation, Comedy, Family]\n",
       "1    [Adventure, Fantasy, Family]\n",
       "2               [Romance, Comedy]\n",
       "3        [Comedy, Drama, Romance]\n",
       "4                        [Comedy]\n",
       "Name: genres, dtype: object"
      ]
     },
     "execution_count": 482,
     "metadata": {},
     "output_type": "execute_result"
    }
   ],
   "source": [
    "movies_df['genres'].head()"
   ]
  },
  {
   "cell_type": "markdown",
   "metadata": {},
   "source": [
    "    v is the number of votes for the movie\n",
    "    m is the minimum votes required to be listed in the chart\n",
    "    R is the average rating of the movie\n",
    "    C is the mean vote across the whole report"
   ]
  },
  {
   "cell_type": "code",
   "execution_count": 483,
   "metadata": {},
   "outputs": [
    {
     "data": {
      "text/plain": [
       "5.618207215133889"
      ]
     },
     "execution_count": 483,
     "metadata": {},
     "output_type": "execute_result"
    }
   ],
   "source": [
    "V = movies_df[movies_df['vote_count'].notnull()]['vote_count'].astype('float')\n",
    "#vote_counts\n",
    "R = movies_df[movies_df['vote_average'].notnull()]['vote_average'].astype('float')\n",
    "\n",
    "# this is C\n",
    "C = R.mean()\n",
    "C"
   ]
  },
  {
   "cell_type": "code",
   "execution_count": 484,
   "metadata": {},
   "outputs": [
    {
     "data": {
      "text/plain": [
       "434.0"
      ]
     },
     "execution_count": 484,
     "metadata": {},
     "output_type": "execute_result"
    }
   ],
   "source": [
    "M = V.quantile(0.95)\n",
    "M"
   ]
  },
  {
   "cell_type": "code",
   "execution_count": 485,
   "metadata": {},
   "outputs": [],
   "source": [
    "df = pd.DataFrame()\n",
    "df = movies_df[(md['vote_count'] >= m) & (movies_df['vote_average'].notnull())][['title','vote_count','vote_average','popularity','genres','overview']]"
   ]
  },
  {
   "cell_type": "code",
   "execution_count": 486,
   "metadata": {},
   "outputs": [
    {
     "data": {
      "text/plain": [
       "(27054, 6)"
      ]
     },
     "execution_count": 486,
     "metadata": {},
     "output_type": "execute_result"
    }
   ],
   "source": [
    "df.shape"
   ]
  },
  {
   "cell_type": "code",
   "execution_count": 457,
   "metadata": {},
   "outputs": [],
   "source": [
    "df['Weighted_average'] = ((R*V) + (C*M))/(V+M)\n",
    "recm_movies = df.sort_values('Weighted_average', ascending=False).head(500)"
   ]
  },
  {
   "cell_type": "code",
   "execution_count": 458,
   "metadata": {},
   "outputs": [
    {
     "data": {
      "text/html": [
       "<div>\n",
       "<style scoped>\n",
       "    .dataframe tbody tr th:only-of-type {\n",
       "        vertical-align: middle;\n",
       "    }\n",
       "\n",
       "    .dataframe tbody tr th {\n",
       "        vertical-align: top;\n",
       "    }\n",
       "\n",
       "    .dataframe thead th {\n",
       "        text-align: right;\n",
       "    }\n",
       "</style>\n",
       "<table border=\"1\" class=\"dataframe\">\n",
       "  <thead>\n",
       "    <tr style=\"text-align: right;\">\n",
       "      <th></th>\n",
       "      <th>title</th>\n",
       "      <th>vote_count</th>\n",
       "      <th>vote_average</th>\n",
       "      <th>popularity</th>\n",
       "      <th>genres</th>\n",
       "      <th>overview</th>\n",
       "      <th>Weighted_average</th>\n",
       "    </tr>\n",
       "  </thead>\n",
       "  <tbody>\n",
       "    <tr>\n",
       "      <th>314</th>\n",
       "      <td>The Shawshank Redemption</td>\n",
       "      <td>8358.0</td>\n",
       "      <td>8.5</td>\n",
       "      <td>51.6454</td>\n",
       "      <td>[Drama, Crime]</td>\n",
       "      <td>Framed in the 1940s for the double murder of h...</td>\n",
       "      <td>8.357746</td>\n",
       "    </tr>\n",
       "    <tr>\n",
       "      <th>834</th>\n",
       "      <td>The Godfather</td>\n",
       "      <td>6024.0</td>\n",
       "      <td>8.5</td>\n",
       "      <td>41.1093</td>\n",
       "      <td>[Drama, Crime]</td>\n",
       "      <td>Spanning the years 1945 to 1955, a chronicle o...</td>\n",
       "      <td>8.306334</td>\n",
       "    </tr>\n",
       "    <tr>\n",
       "      <th>12481</th>\n",
       "      <td>The Dark Knight</td>\n",
       "      <td>12269.0</td>\n",
       "      <td>8.3</td>\n",
       "      <td>123.167</td>\n",
       "      <td>[Drama, Action, Crime, Thriller]</td>\n",
       "      <td>Batman raises the stakes in his war on crime. ...</td>\n",
       "      <td>8.208376</td>\n",
       "    </tr>\n",
       "    <tr>\n",
       "      <th>2843</th>\n",
       "      <td>Fight Club</td>\n",
       "      <td>9678.0</td>\n",
       "      <td>8.3</td>\n",
       "      <td>63.8696</td>\n",
       "      <td>[Drama]</td>\n",
       "      <td>A ticking-time-bomb insomniac and a slippery s...</td>\n",
       "      <td>8.184899</td>\n",
       "    </tr>\n",
       "    <tr>\n",
       "      <th>292</th>\n",
       "      <td>Pulp Fiction</td>\n",
       "      <td>8670.0</td>\n",
       "      <td>8.3</td>\n",
       "      <td>140.95</td>\n",
       "      <td>[Thriller, Crime]</td>\n",
       "      <td>A burger-loving hit man, his philosophical par...</td>\n",
       "      <td>8.172155</td>\n",
       "    </tr>\n",
       "  </tbody>\n",
       "</table>\n",
       "</div>"
      ],
      "text/plain": [
       "                          title  vote_count  vote_average popularity  \\\n",
       "314    The Shawshank Redemption      8358.0           8.5    51.6454   \n",
       "834               The Godfather      6024.0           8.5    41.1093   \n",
       "12481           The Dark Knight     12269.0           8.3    123.167   \n",
       "2843                 Fight Club      9678.0           8.3    63.8696   \n",
       "292                Pulp Fiction      8670.0           8.3     140.95   \n",
       "\n",
       "                                 genres  \\\n",
       "314                      [Drama, Crime]   \n",
       "834                      [Drama, Crime]   \n",
       "12481  [Drama, Action, Crime, Thriller]   \n",
       "2843                            [Drama]   \n",
       "292                   [Thriller, Crime]   \n",
       "\n",
       "                                                overview  Weighted_average  \n",
       "314    Framed in the 1940s for the double murder of h...          8.357746  \n",
       "834    Spanning the years 1945 to 1955, a chronicle o...          8.306334  \n",
       "12481  Batman raises the stakes in his war on crime. ...          8.208376  \n",
       "2843   A ticking-time-bomb insomniac and a slippery s...          8.184899  \n",
       "292    A burger-loving hit man, his philosophical par...          8.172155  "
      ]
     },
     "execution_count": 458,
     "metadata": {},
     "output_type": "execute_result"
    }
   ],
   "source": [
    "recm_movies.head()"
   ]
  },
  {
   "cell_type": "code",
   "execution_count": 487,
   "metadata": {
    "scrolled": true
   },
   "outputs": [
    {
     "data": {
      "text/plain": [
       "Text(0,0.5,'Movie Title')"
      ]
     },
     "execution_count": 487,
     "metadata": {},
     "output_type": "execute_result"
    },
    {
     "data": {
      "image/png": "[encoded data removed]",
      "text/plain": [
       "<Figure size 864x432 with 1 Axes>"
      ]
     },
     "metadata": {
      "needs_background": "light"
     },
     "output_type": "display_data"
    }
   ],
   "source": [
    "import matplotlib.pyplot as plt\n",
    "import seaborn as sns\n",
    "\n",
    "weight_average=recm_movies.sort_values('Weighted_average',ascending=False)\n",
    "plt.figure(figsize=(12,6))\n",
    "axis1=sns.barplot(x=recm_movies['Weighted_average'].head(10), y=recm_movies['title'].head(10), data=recm_movies)\n",
    "plt.xlim(4, 10)\n",
    "plt.title('Best Movies by weighted_average', weight='bold')\n",
    "plt.xlabel('Weighted Average Score', weight='bold')\n",
    "plt.ylabel('Movie Title', weight='bold')"
   ]
  },
  {
   "cell_type": "code",
   "execution_count": 460,
   "metadata": {},
   "outputs": [],
   "source": [
    "popular = pd.DataFrame()\n",
    "popular = recm_movies.copy()\n",
    "popular['popularity'] = recm_movies[recm_movies['popularity'].notnull()]['popularity'].astype('float')\n",
    "popular = popular.sort_values('popularity',ascending = False)"
   ]
  },
  {
   "cell_type": "code",
   "execution_count": 461,
   "metadata": {},
   "outputs": [
    {
     "data": {
      "text/html": [
       "<div>\n",
       "<style scoped>\n",
       "    .dataframe tbody tr th:only-of-type {\n",
       "        vertical-align: middle;\n",
       "    }\n",
       "\n",
       "    .dataframe tbody tr th {\n",
       "        vertical-align: top;\n",
       "    }\n",
       "\n",
       "    .dataframe thead th {\n",
       "        text-align: right;\n",
       "    }\n",
       "</style>\n",
       "<table border=\"1\" class=\"dataframe\">\n",
       "  <thead>\n",
       "    <tr style=\"text-align: right;\">\n",
       "      <th></th>\n",
       "      <th>title</th>\n",
       "      <th>vote_count</th>\n",
       "      <th>vote_average</th>\n",
       "      <th>popularity</th>\n",
       "      <th>genres</th>\n",
       "      <th>overview</th>\n",
       "      <th>Weighted_average</th>\n",
       "    </tr>\n",
       "  </thead>\n",
       "  <tbody>\n",
       "    <tr>\n",
       "      <th>33356</th>\n",
       "      <td>Wonder Woman</td>\n",
       "      <td>5025.0</td>\n",
       "      <td>7.2</td>\n",
       "      <td>294.337037</td>\n",
       "      <td>[Action, Adventure, Fantasy]</td>\n",
       "      <td>An Amazon princess comes to the world of Man t...</td>\n",
       "      <td>7.074245</td>\n",
       "    </tr>\n",
       "    <tr>\n",
       "      <th>43644</th>\n",
       "      <td>Baby Driver</td>\n",
       "      <td>2083.0</td>\n",
       "      <td>7.2</td>\n",
       "      <td>228.032744</td>\n",
       "      <td>[Action, Crime]</td>\n",
       "      <td>After being coerced into working for a crime b...</td>\n",
       "      <td>6.927255</td>\n",
       "    </tr>\n",
       "    <tr>\n",
       "      <th>24455</th>\n",
       "      <td>Big Hero 6</td>\n",
       "      <td>6289.0</td>\n",
       "      <td>7.8</td>\n",
       "      <td>213.849907</td>\n",
       "      <td>[Adventure, Family, Animation, Action, Comedy]</td>\n",
       "      <td>The special bond that develops between plus-si...</td>\n",
       "      <td>7.659155</td>\n",
       "    </tr>\n",
       "    <tr>\n",
       "      <th>26564</th>\n",
       "      <td>Deadpool</td>\n",
       "      <td>11444.0</td>\n",
       "      <td>7.4</td>\n",
       "      <td>187.860492</td>\n",
       "      <td>[Action, Adventure, Comedy]</td>\n",
       "      <td>Deadpool tells the origin story of former Spec...</td>\n",
       "      <td>7.334897</td>\n",
       "    </tr>\n",
       "    <tr>\n",
       "      <th>26566</th>\n",
       "      <td>Guardians of the Galaxy Vol. 2</td>\n",
       "      <td>4858.0</td>\n",
       "      <td>7.6</td>\n",
       "      <td>185.330992</td>\n",
       "      <td>[Action, Adventure, Comedy, Science Fiction]</td>\n",
       "      <td>The Guardians must fight to keep their newfoun...</td>\n",
       "      <td>7.437472</td>\n",
       "    </tr>\n",
       "  </tbody>\n",
       "</table>\n",
       "</div>"
      ],
      "text/plain": [
       "                                title  vote_count  vote_average  popularity  \\\n",
       "33356                    Wonder Woman      5025.0           7.2  294.337037   \n",
       "43644                     Baby Driver      2083.0           7.2  228.032744   \n",
       "24455                      Big Hero 6      6289.0           7.8  213.849907   \n",
       "26564                        Deadpool     11444.0           7.4  187.860492   \n",
       "26566  Guardians of the Galaxy Vol. 2      4858.0           7.6  185.330992   \n",
       "\n",
       "                                               genres  \\\n",
       "33356                    [Action, Adventure, Fantasy]   \n",
       "43644                                 [Action, Crime]   \n",
       "24455  [Adventure, Family, Animation, Action, Comedy]   \n",
       "26564                     [Action, Adventure, Comedy]   \n",
       "26566    [Action, Adventure, Comedy, Science Fiction]   \n",
       "\n",
       "                                                overview  Weighted_average  \n",
       "33356  An Amazon princess comes to the world of Man t...          7.074245  \n",
       "43644  After being coerced into working for a crime b...          6.927255  \n",
       "24455  The special bond that develops between plus-si...          7.659155  \n",
       "26564  Deadpool tells the origin story of former Spec...          7.334897  \n",
       "26566  The Guardians must fight to keep their newfoun...          7.437472  "
      ]
     },
     "execution_count": 461,
     "metadata": {},
     "output_type": "execute_result"
    }
   ],
   "source": [
    "popular.head()"
   ]
  },
  {
   "cell_type": "code",
   "execution_count": 462,
   "metadata": {},
   "outputs": [
    {
     "data": {
      "text/plain": [
       "Text(0,0.5,'Movie Title')"
      ]
     },
     "execution_count": 462,
     "metadata": {},
     "output_type": "execute_result"
    },
    {
     "data": {
      "image/png": "[encoded data removed]",
      "text/plain": [
       "<Figure size 864x432 with 1 Axes>"
      ]
     },
     "metadata": {
      "needs_background": "light"
     },
     "output_type": "display_data"
    }
   ],
   "source": [
    "plt.figure(figsize=(12,6))\n",
    "axis1=sns.barplot(x=popular['popularity'].head(10), y=popular['title'].head(10), data=popular)\n",
    "plt.xlim(4, 350)\n",
    "plt.title('Best Movies by Popularity', weight='bold')\n",
    "plt.xlabel('Popularity', weight='bold')\n",
    "plt.ylabel('Movie Title', weight='bold')"
   ]
  },
  {
   "cell_type": "code",
   "execution_count": 489,
   "metadata": {},
   "outputs": [
    {
     "data": {
      "text/html": [
       "<div>\n",
       "<style scoped>\n",
       "    .dataframe tbody tr th:only-of-type {\n",
       "        vertical-align: middle;\n",
       "    }\n",
       "\n",
       "    .dataframe tbody tr th {\n",
       "        vertical-align: top;\n",
       "    }\n",
       "\n",
       "    .dataframe thead th {\n",
       "        text-align: right;\n",
       "    }\n",
       "</style>\n",
       "<table border=\"1\" class=\"dataframe\">\n",
       "  <thead>\n",
       "    <tr style=\"text-align: right;\">\n",
       "      <th></th>\n",
       "      <th>title</th>\n",
       "      <th>vote_count</th>\n",
       "      <th>vote_average</th>\n",
       "      <th>popularity</th>\n",
       "      <th>overview</th>\n",
       "      <th>Weighted_average</th>\n",
       "      <th>genre</th>\n",
       "    </tr>\n",
       "  </thead>\n",
       "  <tbody>\n",
       "    <tr>\n",
       "      <th>0</th>\n",
       "      <td>Toy Story</td>\n",
       "      <td>5415.0</td>\n",
       "      <td>7.7</td>\n",
       "      <td>21.9469</td>\n",
       "      <td>Led by Woody, Andy's toys live happily in his ...</td>\n",
       "      <td>7.545529</td>\n",
       "      <td>Animation</td>\n",
       "    </tr>\n",
       "    <tr>\n",
       "      <th>0</th>\n",
       "      <td>Toy Story</td>\n",
       "      <td>5415.0</td>\n",
       "      <td>7.7</td>\n",
       "      <td>21.9469</td>\n",
       "      <td>Led by Woody, Andy's toys live happily in his ...</td>\n",
       "      <td>7.545529</td>\n",
       "      <td>Comedy</td>\n",
       "    </tr>\n",
       "    <tr>\n",
       "      <th>0</th>\n",
       "      <td>Toy Story</td>\n",
       "      <td>5415.0</td>\n",
       "      <td>7.7</td>\n",
       "      <td>21.9469</td>\n",
       "      <td>Led by Woody, Andy's toys live happily in his ...</td>\n",
       "      <td>7.545529</td>\n",
       "      <td>Family</td>\n",
       "    </tr>\n",
       "    <tr>\n",
       "      <th>5</th>\n",
       "      <td>Heat</td>\n",
       "      <td>1886.0</td>\n",
       "      <td>7.7</td>\n",
       "      <td>17.9249</td>\n",
       "      <td>Obsessive master thief, Neil McCauley leads a ...</td>\n",
       "      <td>7.310561</td>\n",
       "      <td>Action</td>\n",
       "    </tr>\n",
       "    <tr>\n",
       "      <th>5</th>\n",
       "      <td>Heat</td>\n",
       "      <td>1886.0</td>\n",
       "      <td>7.7</td>\n",
       "      <td>17.9249</td>\n",
       "      <td>Obsessive master thief, Neil McCauley leads a ...</td>\n",
       "      <td>7.310561</td>\n",
       "      <td>Crime</td>\n",
       "    </tr>\n",
       "    <tr>\n",
       "      <th>5</th>\n",
       "      <td>Heat</td>\n",
       "      <td>1886.0</td>\n",
       "      <td>7.7</td>\n",
       "      <td>17.9249</td>\n",
       "      <td>Obsessive master thief, Neil McCauley leads a ...</td>\n",
       "      <td>7.310561</td>\n",
       "      <td>Drama</td>\n",
       "    </tr>\n",
       "    <tr>\n",
       "      <th>5</th>\n",
       "      <td>Heat</td>\n",
       "      <td>1886.0</td>\n",
       "      <td>7.7</td>\n",
       "      <td>17.9249</td>\n",
       "      <td>Obsessive master thief, Neil McCauley leads a ...</td>\n",
       "      <td>7.310561</td>\n",
       "      <td>Thriller</td>\n",
       "    </tr>\n",
       "    <tr>\n",
       "      <th>15</th>\n",
       "      <td>Casino</td>\n",
       "      <td>1343.0</td>\n",
       "      <td>7.8</td>\n",
       "      <td>10.1374</td>\n",
       "      <td>The life of the gambling paradise – Las Vegas ...</td>\n",
       "      <td>7.267137</td>\n",
       "      <td>Drama</td>\n",
       "    </tr>\n",
       "    <tr>\n",
       "      <th>15</th>\n",
       "      <td>Casino</td>\n",
       "      <td>1343.0</td>\n",
       "      <td>7.8</td>\n",
       "      <td>10.1374</td>\n",
       "      <td>The life of the gambling paradise – Las Vegas ...</td>\n",
       "      <td>7.267137</td>\n",
       "      <td>Crime</td>\n",
       "    </tr>\n",
       "    <tr>\n",
       "      <th>31</th>\n",
       "      <td>Twelve Monkeys</td>\n",
       "      <td>2470.0</td>\n",
       "      <td>7.4</td>\n",
       "      <td>12.2973</td>\n",
       "      <td>In the year 2035, convict James Cole reluctant...</td>\n",
       "      <td>7.133713</td>\n",
       "      <td>Science Fiction</td>\n",
       "    </tr>\n",
       "  </tbody>\n",
       "</table>\n",
       "</div>"
      ],
      "text/plain": [
       "             title  vote_count  vote_average popularity  \\\n",
       "0        Toy Story      5415.0           7.7    21.9469   \n",
       "0        Toy Story      5415.0           7.7    21.9469   \n",
       "0        Toy Story      5415.0           7.7    21.9469   \n",
       "5             Heat      1886.0           7.7    17.9249   \n",
       "5             Heat      1886.0           7.7    17.9249   \n",
       "5             Heat      1886.0           7.7    17.9249   \n",
       "5             Heat      1886.0           7.7    17.9249   \n",
       "15          Casino      1343.0           7.8    10.1374   \n",
       "15          Casino      1343.0           7.8    10.1374   \n",
       "31  Twelve Monkeys      2470.0           7.4    12.2973   \n",
       "\n",
       "                                             overview  Weighted_average  \\\n",
       "0   Led by Woody, Andy's toys live happily in his ...          7.545529   \n",
       "0   Led by Woody, Andy's toys live happily in his ...          7.545529   \n",
       "0   Led by Woody, Andy's toys live happily in his ...          7.545529   \n",
       "5   Obsessive master thief, Neil McCauley leads a ...          7.310561   \n",
       "5   Obsessive master thief, Neil McCauley leads a ...          7.310561   \n",
       "5   Obsessive master thief, Neil McCauley leads a ...          7.310561   \n",
       "5   Obsessive master thief, Neil McCauley leads a ...          7.310561   \n",
       "15  The life of the gambling paradise – Las Vegas ...          7.267137   \n",
       "15  The life of the gambling paradise – Las Vegas ...          7.267137   \n",
       "31  In the year 2035, convict James Cole reluctant...          7.133713   \n",
       "\n",
       "              genre  \n",
       "0         Animation  \n",
       "0            Comedy  \n",
       "0            Family  \n",
       "5            Action  \n",
       "5             Crime  \n",
       "5             Drama  \n",
       "5          Thriller  \n",
       "15            Drama  \n",
       "15            Crime  \n",
       "31  Science Fiction  "
      ]
     },
     "execution_count": 489,
     "metadata": {},
     "output_type": "execute_result"
    }
   ],
   "source": [
    "s = df.apply(lambda x: pd.Series(x['genres']),axis=1).stack().reset_index(level=1, drop=True)\n",
    "s.name = 'genre'\n",
    "gen_movies = recm_movies.drop('genres', axis=1).join(s)\n",
    "gen_movies.head(10)\n",
    "#gen_movies.columns"
   ]
  },
  {
   "cell_type": "code",
   "execution_count": 490,
   "metadata": {},
   "outputs": [
    {
     "data": {
      "text/html": [
       "<div>\n",
       "<style scoped>\n",
       "    .dataframe tbody tr th:only-of-type {\n",
       "        vertical-align: middle;\n",
       "    }\n",
       "\n",
       "    .dataframe tbody tr th {\n",
       "        vertical-align: top;\n",
       "    }\n",
       "\n",
       "    .dataframe thead th {\n",
       "        text-align: right;\n",
       "    }\n",
       "</style>\n",
       "<table border=\"1\" class=\"dataframe\">\n",
       "  <thead>\n",
       "    <tr style=\"text-align: right;\">\n",
       "      <th></th>\n",
       "      <th>title</th>\n",
       "      <th>vote_count</th>\n",
       "      <th>vote_average</th>\n",
       "      <th>popularity</th>\n",
       "      <th>overview</th>\n",
       "      <th>Weighted_average</th>\n",
       "      <th>genre</th>\n",
       "    </tr>\n",
       "  </thead>\n",
       "  <tbody>\n",
       "    <tr>\n",
       "      <th>12481</th>\n",
       "      <td>The Dark Knight</td>\n",
       "      <td>12269.0</td>\n",
       "      <td>8.3</td>\n",
       "      <td>123.167</td>\n",
       "      <td>Batman raises the stakes in his war on crime. ...</td>\n",
       "      <td>8.208376</td>\n",
       "      <td>Action</td>\n",
       "    </tr>\n",
       "    <tr>\n",
       "      <th>1154</th>\n",
       "      <td>The Empire Strikes Back</td>\n",
       "      <td>5998.0</td>\n",
       "      <td>8.2</td>\n",
       "      <td>19.471</td>\n",
       "      <td>The epic saga continues as Luke Skywalker, in ...</td>\n",
       "      <td>8.025793</td>\n",
       "      <td>Action</td>\n",
       "    </tr>\n",
       "    <tr>\n",
       "      <th>15480</th>\n",
       "      <td>Inception</td>\n",
       "      <td>14075.0</td>\n",
       "      <td>8.1</td>\n",
       "      <td>29.1081</td>\n",
       "      <td>Cobb, a skilled thief who commits corporate es...</td>\n",
       "      <td>8.025763</td>\n",
       "      <td>Action</td>\n",
       "    </tr>\n",
       "    <tr>\n",
       "      <th>7000</th>\n",
       "      <td>The Lord of the Rings: The Return of the King</td>\n",
       "      <td>8226.0</td>\n",
       "      <td>8.1</td>\n",
       "      <td>29.3244</td>\n",
       "      <td>Aragorn is revealed as the heir to the ancient...</td>\n",
       "      <td>7.975624</td>\n",
       "      <td>Action</td>\n",
       "    </tr>\n",
       "    <tr>\n",
       "      <th>256</th>\n",
       "      <td>Star Wars</td>\n",
       "      <td>6778.0</td>\n",
       "      <td>8.1</td>\n",
       "      <td>42.1497</td>\n",
       "      <td>Princess Leia is captured and held hostage by ...</td>\n",
       "      <td>7.950652</td>\n",
       "      <td>Action</td>\n",
       "    </tr>\n",
       "    <tr>\n",
       "      <th>4863</th>\n",
       "      <td>The Lord of the Rings: The Fellowship of the Ring</td>\n",
       "      <td>8892.0</td>\n",
       "      <td>8.0</td>\n",
       "      <td>32.0707</td>\n",
       "      <td>Young hobbit Frodo Baggins, after inheriting a...</td>\n",
       "      <td>7.889160</td>\n",
       "      <td>Action</td>\n",
       "    </tr>\n",
       "    <tr>\n",
       "      <th>5814</th>\n",
       "      <td>The Lord of the Rings: The Two Towers</td>\n",
       "      <td>7641.0</td>\n",
       "      <td>8.0</td>\n",
       "      <td>29.4235</td>\n",
       "      <td>Frodo and Sam are trekking to Mordor to destro...</td>\n",
       "      <td>7.871988</td>\n",
       "      <td>Action</td>\n",
       "    </tr>\n",
       "    <tr>\n",
       "      <th>23753</th>\n",
       "      <td>Guardians of the Galaxy</td>\n",
       "      <td>10014.0</td>\n",
       "      <td>7.9</td>\n",
       "      <td>53.2916</td>\n",
       "      <td>Light years from Earth, 26 years after being a...</td>\n",
       "      <td>7.805216</td>\n",
       "      <td>Action</td>\n",
       "    </tr>\n",
       "    <tr>\n",
       "      <th>2458</th>\n",
       "      <td>The Matrix</td>\n",
       "      <td>9079.0</td>\n",
       "      <td>7.9</td>\n",
       "      <td>33.3663</td>\n",
       "      <td>Set in the 22nd century, The Matrix tells the ...</td>\n",
       "      <td>7.795901</td>\n",
       "      <td>Action</td>\n",
       "    </tr>\n",
       "    <tr>\n",
       "      <th>13605</th>\n",
       "      <td>Inglourious Basterds</td>\n",
       "      <td>6598.0</td>\n",
       "      <td>7.9</td>\n",
       "      <td>16.8956</td>\n",
       "      <td>In Nazi-occupied France during World War II, a...</td>\n",
       "      <td>7.759173</td>\n",
       "      <td>Action</td>\n",
       "    </tr>\n",
       "  </tbody>\n",
       "</table>\n",
       "</div>"
      ],
      "text/plain": [
       "                                                   title  vote_count  \\\n",
       "12481                                    The Dark Knight     12269.0   \n",
       "1154                             The Empire Strikes Back      5998.0   \n",
       "15480                                          Inception     14075.0   \n",
       "7000       The Lord of the Rings: The Return of the King      8226.0   \n",
       "256                                            Star Wars      6778.0   \n",
       "4863   The Lord of the Rings: The Fellowship of the Ring      8892.0   \n",
       "5814               The Lord of the Rings: The Two Towers      7641.0   \n",
       "23753                            Guardians of the Galaxy     10014.0   \n",
       "2458                                          The Matrix      9079.0   \n",
       "13605                               Inglourious Basterds      6598.0   \n",
       "\n",
       "       vote_average popularity  \\\n",
       "12481           8.3    123.167   \n",
       "1154            8.2     19.471   \n",
       "15480           8.1    29.1081   \n",
       "7000            8.1    29.3244   \n",
       "256             8.1    42.1497   \n",
       "4863            8.0    32.0707   \n",
       "5814            8.0    29.4235   \n",
       "23753           7.9    53.2916   \n",
       "2458            7.9    33.3663   \n",
       "13605           7.9    16.8956   \n",
       "\n",
       "                                                overview  Weighted_average  \\\n",
       "12481  Batman raises the stakes in his war on crime. ...          8.208376   \n",
       "1154   The epic saga continues as Luke Skywalker, in ...          8.025793   \n",
       "15480  Cobb, a skilled thief who commits corporate es...          8.025763   \n",
       "7000   Aragorn is revealed as the heir to the ancient...          7.975624   \n",
       "256    Princess Leia is captured and held hostage by ...          7.950652   \n",
       "4863   Young hobbit Frodo Baggins, after inheriting a...          7.889160   \n",
       "5814   Frodo and Sam are trekking to Mordor to destro...          7.871988   \n",
       "23753  Light years from Earth, 26 years after being a...          7.805216   \n",
       "2458   Set in the 22nd century, The Matrix tells the ...          7.795901   \n",
       "13605  In Nazi-occupied France during World War II, a...          7.759173   \n",
       "\n",
       "        genre  \n",
       "12481  Action  \n",
       "1154   Action  \n",
       "15480  Action  \n",
       "7000   Action  \n",
       "256    Action  \n",
       "4863   Action  \n",
       "5814   Action  \n",
       "23753  Action  \n",
       "2458   Action  \n",
       "13605  Action  "
      ]
     },
     "execution_count": 490,
     "metadata": {},
     "output_type": "execute_result"
    }
   ],
   "source": [
    "#m = vote_counts.quantile(0.80)\n",
    "df_w = gen_movies[ (gen_movies['genre'] == 'Action') & (gen_movies['vote_count'] >= m)]\n",
    "df_w.sort_values('Weighted_average', ascending = False).head(10)"
   ]
  },
  {
   "cell_type": "code",
   "execution_count": 492,
   "metadata": {},
   "outputs": [
    {
     "data": {
      "text/plain": [
       "Text(0,0.5,'Action Movie Title')"
      ]
     },
     "execution_count": 492,
     "metadata": {},
     "output_type": "execute_result"
    },
    {
     "data": {
      "image/png": "[encoded data removed]",
      "text/plain": [
       "<Figure size 864x432 with 1 Axes>"
      ]
     },
     "metadata": {
      "needs_background": "light"
     },
     "output_type": "display_data"
    }
   ],
   "source": [
    "df_w = df_w.sort_values('Weighted_average', ascending = False)\n",
    "plt.figure(figsize=(12,6))\n",
    "axis1=sns.barplot(x=df_w['Weighted_average'].head(10), y=df_w['title'].head(10), data=df_w)\n",
    "plt.xlim(4, 10)\n",
    "plt.title('Best Action Movies by weighted average', weight='bold')\n",
    "plt.xlabel('Weighted Average Score', weight='bold')\n",
    "plt.ylabel('Action Movie Title', weight='bold')"
   ]
  },
  {
   "cell_type": "code",
   "execution_count": 493,
   "metadata": {},
   "outputs": [
    {
     "data": {
      "text/plain": [
       "Text(0,0.5,'Drama Movie Title')"
      ]
     },
     "execution_count": 493,
     "metadata": {},
     "output_type": "execute_result"
    },
    {
     "data": {
      "image/png": "[encoded data removed]",
      "text/plain": [
       "<Figure size 864x432 with 1 Axes>"
      ]
     },
     "metadata": {
      "needs_background": "light"
     },
     "output_type": "display_data"
    }
   ],
   "source": [
    "df_w = gen_md[ (gen_md['genre'] == 'Drama') & (gen_md['vote_count'] >= m)]\n",
    "\n",
    "df_w = df_w.sort_values('Weighted_average', ascending = False)\n",
    "plt.figure(figsize=(12,6))\n",
    "axis1=sns.barplot(x=df_w['Weighted_average'].head(10), y=df_w['title'].head(10), data=df_w)\n",
    "plt.xlim(4, 10)\n",
    "plt.title('Best Drama Movies by weighted average', weight='bold')\n",
    "plt.xlabel('Weighted Average Score', weight='bold')\n",
    "plt.ylabel('Drama Movie Title', weight='bold')"
   ]
  },
  {
   "cell_type": "code",
   "execution_count": 467,
   "metadata": {},
   "outputs": [
    {
     "data": {
      "text/html": [
       "<div>\n",
       "<style scoped>\n",
       "    .dataframe tbody tr th:only-of-type {\n",
       "        vertical-align: middle;\n",
       "    }\n",
       "\n",
       "    .dataframe tbody tr th {\n",
       "        vertical-align: top;\n",
       "    }\n",
       "\n",
       "    .dataframe thead th {\n",
       "        text-align: right;\n",
       "    }\n",
       "</style>\n",
       "<table border=\"1\" class=\"dataframe\">\n",
       "  <thead>\n",
       "    <tr style=\"text-align: right;\">\n",
       "      <th></th>\n",
       "      <th>title</th>\n",
       "      <th>vote_count</th>\n",
       "      <th>vote_average</th>\n",
       "      <th>popularity</th>\n",
       "      <th>genres</th>\n",
       "      <th>overview</th>\n",
       "      <th>Weighted_average</th>\n",
       "    </tr>\n",
       "  </thead>\n",
       "  <tbody>\n",
       "    <tr>\n",
       "      <th>314</th>\n",
       "      <td>The Shawshank Redemption</td>\n",
       "      <td>8358.0</td>\n",
       "      <td>8.5</td>\n",
       "      <td>51.6454</td>\n",
       "      <td>[Drama, Crime]</td>\n",
       "      <td>Framed in the 1940s for the double murder of h...</td>\n",
       "      <td>8.357746</td>\n",
       "    </tr>\n",
       "    <tr>\n",
       "      <th>834</th>\n",
       "      <td>The Godfather</td>\n",
       "      <td>6024.0</td>\n",
       "      <td>8.5</td>\n",
       "      <td>41.1093</td>\n",
       "      <td>[Drama, Crime]</td>\n",
       "      <td>Spanning the years 1945 to 1955, a chronicle o...</td>\n",
       "      <td>8.306334</td>\n",
       "    </tr>\n",
       "    <tr>\n",
       "      <th>12481</th>\n",
       "      <td>The Dark Knight</td>\n",
       "      <td>12269.0</td>\n",
       "      <td>8.3</td>\n",
       "      <td>123.167</td>\n",
       "      <td>[Drama, Action, Crime, Thriller]</td>\n",
       "      <td>Batman raises the stakes in his war on crime. ...</td>\n",
       "      <td>8.208376</td>\n",
       "    </tr>\n",
       "    <tr>\n",
       "      <th>2843</th>\n",
       "      <td>Fight Club</td>\n",
       "      <td>9678.0</td>\n",
       "      <td>8.3</td>\n",
       "      <td>63.8696</td>\n",
       "      <td>[Drama]</td>\n",
       "      <td>A ticking-time-bomb insomniac and a slippery s...</td>\n",
       "      <td>8.184899</td>\n",
       "    </tr>\n",
       "    <tr>\n",
       "      <th>292</th>\n",
       "      <td>Pulp Fiction</td>\n",
       "      <td>8670.0</td>\n",
       "      <td>8.3</td>\n",
       "      <td>140.95</td>\n",
       "      <td>[Thriller, Crime]</td>\n",
       "      <td>A burger-loving hit man, his philosophical par...</td>\n",
       "      <td>8.172155</td>\n",
       "    </tr>\n",
       "  </tbody>\n",
       "</table>\n",
       "</div>"
      ],
      "text/plain": [
       "                          title  vote_count  vote_average popularity  \\\n",
       "314    The Shawshank Redemption      8358.0           8.5    51.6454   \n",
       "834               The Godfather      6024.0           8.5    41.1093   \n",
       "12481           The Dark Knight     12269.0           8.3    123.167   \n",
       "2843                 Fight Club      9678.0           8.3    63.8696   \n",
       "292                Pulp Fiction      8670.0           8.3     140.95   \n",
       "\n",
       "                                 genres  \\\n",
       "314                      [Drama, Crime]   \n",
       "834                      [Drama, Crime]   \n",
       "12481  [Drama, Action, Crime, Thriller]   \n",
       "2843                            [Drama]   \n",
       "292                   [Thriller, Crime]   \n",
       "\n",
       "                                                overview  Weighted_average  \n",
       "314    Framed in the 1940s for the double murder of h...          8.357746  \n",
       "834    Spanning the years 1945 to 1955, a chronicle o...          8.306334  \n",
       "12481  Batman raises the stakes in his war on crime. ...          8.208376  \n",
       "2843   A ticking-time-bomb insomniac and a slippery s...          8.184899  \n",
       "292    A burger-loving hit man, his philosophical par...          8.172155  "
      ]
     },
     "execution_count": 467,
     "metadata": {},
     "output_type": "execute_result"
    }
   ],
   "source": [
    "cont_recm = recm_movies.copy()\n",
    "cont_recm.head()"
   ]
  },
  {
   "cell_type": "code",
   "execution_count": 468,
   "metadata": {},
   "outputs": [],
   "source": [
    "from sklearn.feature_extraction.text import TfidfVectorizer\n",
    "\n",
    "tfv = TfidfVectorizer(min_df=3, max_features=None, strip_accents='unicode', analyzer='word',token_pattern=r'\\w{1,}',\n",
    "            ngram_range=(1, 3), stop_words = 'english')\n",
    "\n",
    "cont_recm['overview'] = cont_recm['overview'].fillna('')"
   ]
  },
  {
   "cell_type": "code",
   "execution_count": 469,
   "metadata": {},
   "outputs": [],
   "source": [
    "# Fitting the TF-IDF on the 'overview' text\n",
    "tfv_matrix = tfv.fit_transform(cont_recm['overview'])"
   ]
  },
  {
   "cell_type": "code",
   "execution_count": 470,
   "metadata": {},
   "outputs": [
    {
     "data": {
      "text/plain": [
       "(500, 1275)"
      ]
     },
     "execution_count": 470,
     "metadata": {},
     "output_type": "execute_result"
    }
   ],
   "source": [
    "tfv_matrix.shape"
   ]
  },
  {
   "cell_type": "code",
   "execution_count": 471,
   "metadata": {},
   "outputs": [],
   "source": [
    "cos_sim = linear_kernel(tfv_matrix, tfv_matrix)"
   ]
  },
  {
   "cell_type": "code",
   "execution_count": 472,
   "metadata": {},
   "outputs": [
    {
     "data": {
      "text/plain": [
       "title\n",
       "The Shawshank Redemption                          0\n",
       "The Godfather                                     1\n",
       "The Dark Knight                                   2\n",
       "Fight Club                                        3\n",
       "Pulp Fiction                                      4\n",
       "Forrest Gump                                      5\n",
       "Schindler's List                                  6\n",
       "Whiplash                                          7\n",
       "Spirited Away                                     8\n",
       "The Empire Strikes Back                           9\n",
       "Inception                                        10\n",
       "Life Is Beautiful                                11\n",
       "The Intouchables                                 12\n",
       "Interstellar                                     13\n",
       "The Godfather: Part II                           14\n",
       "The Lord of the Rings: The Return of the King    15\n",
       "Leon: The Professional                           16\n",
       "One Flew Over the Cuckoo's Nest                  17\n",
       "The Green Mile                                   18\n",
       "Star Wars                                        19\n",
       "dtype: int64"
      ]
     },
     "execution_count": 472,
     "metadata": {},
     "output_type": "execute_result"
    }
   ],
   "source": [
    "cont_recm = cont_recm.reset_index()\n",
    "indices = pd.Series(cont_recm.index, index=cont_recm['title'])\n",
    "indices.head(20)"
   ]
  },
  {
   "cell_type": "code",
   "execution_count": 473,
   "metadata": {},
   "outputs": [],
   "source": [
    "def sugg_recm(title):\n",
    "    # Get the index corresponding to original_title\n",
    "    idx = indices[title]    \n",
    "    # Get the pairwsie similarity scores \n",
    "    sim_scores = list(enumerate(cosine_sim[idx]))\n",
    "     # Sort the movies \n",
    "    sim_scores = sorted(sim_scores, key=lambda x: x[1], reverse=True)\n",
    "    \n",
    "    sim_scores = sim_scores[1:11]\n",
    "    movie_indices = [i[0] for i in sim_scores]\n",
    "    return titles.iloc[movie_indices]"
   ]
  },
  {
   "cell_type": "code",
   "execution_count": 474,
   "metadata": {},
   "outputs": [
    {
     "data": {
      "text/plain": [
       "9                           The Empire Strikes Back\n",
       "134                    Star Wars: The Force Awakens\n",
       "56                               Return of the Jedi\n",
       "230                              The Princess Bride\n",
       "276                                    Wonder Woman\n",
       "215                              The Great Dictator\n",
       "360    Star Wars: Episode III - Revenge of the Sith\n",
       "347              Nausicaä of the Valley of the Wind\n",
       "68                                       Big Hero 6\n",
       "208                                         Aladdin\n",
       "Name: title, dtype: object"
      ]
     },
     "execution_count": 474,
     "metadata": {},
     "output_type": "execute_result"
    }
   ],
   "source": [
    "sugg_recm('Star Wars').head(10)"
   ]
  },
  {
   "cell_type": "code",
   "execution_count": 475,
   "metadata": {},
   "outputs": [
    {
     "data": {
      "text/plain": [
       "2              The Dark Knight\n",
       "425            Despicable Me 2\n",
       "41     The Wolf of Wall Street\n",
       "77           Good Will Hunting\n",
       "405            Sherlock Holmes\n",
       "105               Donnie Darko\n",
       "408         The Man from Earth\n",
       "328             Doctor Strange\n",
       "138              Batman Begins\n",
       "336         X-Men: First Class\n",
       "Name: title, dtype: object"
      ]
     },
     "execution_count": 475,
     "metadata": {},
     "output_type": "execute_result"
    }
   ],
   "source": [
    "sugg_recm('Sherlock Holmes: A Game of Shadows').head(10)"
   ]
  },
  {
   "cell_type": "code",
   "execution_count": 476,
   "metadata": {},
   "outputs": [
    {
     "data": {
      "text/plain": [
       "406    Indiana Jones and the Temple of Doom\n",
       "343                             Still Alice\n",
       "73                                Prisoners\n",
       "131                     There Will Be Blood\n",
       "284                                3 Idiots\n",
       "256                         The Deer Hunter\n",
       "14                   The Godfather: Part II\n",
       "426                         Two Is a Family\n",
       "379                            The Graduate\n",
       "156                     Slumdog Millionaire\n",
       "Name: title, dtype: object"
      ]
     },
     "execution_count": 476,
     "metadata": {},
     "output_type": "execute_result"
    }
   ],
   "source": [
    "sugg_recm('Dilwale Dulhania Le Jayenge').head(10)"
   ]
  },
  {
   "cell_type": "code",
   "execution_count": null,
   "metadata": {},
   "outputs": [],
   "source": []
  }
 ],
 "metadata": {
  "kernelspec": {
   "display_name": "Python 3",
   "language": "python",
   "name": "python3"
  },
  "language_info": {
   "codemirror_mode": {
    "name": "ipython",
    "version": 3
   },
   "file_extension": ".py",
   "mimetype": "text/x-python",
   "name": "python",
   "nbconvert_exporter": "python",
   "pygments_lexer": "ipython3",
   "version": "3.7.0"
  }
 },
 "nbformat": 4,
 "nbformat_minor": 2
}
